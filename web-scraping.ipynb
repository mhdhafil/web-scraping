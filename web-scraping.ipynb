{
 "cells": [
  {
   "cell_type": "markdown",
   "id": "771e765f",
   "metadata": {
    "papermill": {
     "duration": 0.00374,
     "end_time": "2022-08-27T20:00:33.753918",
     "exception": false,
     "start_time": "2022-08-27T20:00:33.750178",
     "status": "completed"
    },
    "tags": []
   },
   "source": [
    "# Web Scraping\n",
    "\n"
   ]
  },
  {
   "cell_type": "markdown",
   "id": "dec49d4a",
   "metadata": {
    "papermill": {
     "duration": 0.005618,
     "end_time": "2022-08-27T20:00:33.765597",
     "exception": false,
     "start_time": "2022-08-27T20:00:33.759979",
     "status": "completed"
    },
    "tags": []
   },
   "source": [
    "Its a web scraping project by usign the BeautifulSoup library. BeautifulSoup is the library which allows us extract the html content in a web page, so that we can analyze the web content and make decisions accordingly."
   ]
  },
  {
   "cell_type": "markdown",
   "id": "7615c558",
   "metadata": {
    "papermill": {
     "duration": 0.002637,
     "end_time": "2022-08-27T20:00:33.771295",
     "exception": false,
     "start_time": "2022-08-27T20:00:33.768658",
     "status": "completed"
    },
    "tags": []
   },
   "source": [
    "### Importing neccessary libraries"
   ]
  },
  {
   "cell_type": "code",
   "execution_count": 1,
   "id": "22521d74",
   "metadata": {
    "execution": {
     "iopub.execute_input": "2022-08-27T20:00:33.779179Z",
     "iopub.status.busy": "2022-08-27T20:00:33.778603Z",
     "iopub.status.idle": "2022-08-27T20:00:33.972753Z",
     "shell.execute_reply": "2022-08-27T20:00:33.971728Z"
    },
    "papermill": {
     "duration": 0.2013,
     "end_time": "2022-08-27T20:00:33.975456",
     "exception": false,
     "start_time": "2022-08-27T20:00:33.774156",
     "status": "completed"
    },
    "tags": []
   },
   "outputs": [],
   "source": [
    "from bs4 import BeautifulSoup\n",
    "import requests"
   ]
  },
  {
   "cell_type": "markdown",
   "id": "427f4a3c",
   "metadata": {
    "papermill": {
     "duration": 0.002723,
     "end_time": "2022-08-27T20:00:33.981519",
     "exception": false,
     "start_time": "2022-08-27T20:00:33.978796",
     "status": "completed"
    },
    "tags": []
   },
   "source": [
    "Extracting html text in web pages with the help of requests library, here we are using timesjob web page for web scraping, its a job posting web page. And we filtering out some specific jobs from the web page."
   ]
  },
  {
   "cell_type": "code",
   "execution_count": 2,
   "id": "d8917cb6",
   "metadata": {
    "execution": {
     "iopub.execute_input": "2022-08-27T20:00:33.988775Z",
     "iopub.status.busy": "2022-08-27T20:00:33.988298Z",
     "iopub.status.idle": "2022-08-27T20:00:36.579323Z",
     "shell.execute_reply": "2022-08-27T20:00:36.578414Z"
    },
    "papermill": {
     "duration": 2.597331,
     "end_time": "2022-08-27T20:00:36.581662",
     "exception": false,
     "start_time": "2022-08-27T20:00:33.984331",
     "status": "completed"
    },
    "tags": []
   },
   "outputs": [],
   "source": [
    " html_text = requests.get('https://www.timesjobs.com/candidate/job-search.html?searchType=personalizedSearch&from=submit&txtKeywords=python&txtLocation=').text"
   ]
  },
  {
   "cell_type": "code",
   "execution_count": 3,
   "id": "c0e1aa4a",
   "metadata": {
    "execution": {
     "iopub.execute_input": "2022-08-27T20:00:36.589246Z",
     "iopub.status.busy": "2022-08-27T20:00:36.588513Z",
     "iopub.status.idle": "2022-08-27T20:00:37.245669Z",
     "shell.execute_reply": "2022-08-27T20:00:37.244759Z"
    },
    "papermill": {
     "duration": 0.663564,
     "end_time": "2022-08-27T20:00:37.248255",
     "exception": false,
     "start_time": "2022-08-27T20:00:36.584691",
     "status": "completed"
    },
    "tags": []
   },
   "outputs": [],
   "source": [
    "soup = BeautifulSoup(html_text, 'lxml')"
   ]
  },
  {
   "cell_type": "code",
   "execution_count": 4,
   "id": "f655cbd8",
   "metadata": {
    "execution": {
     "iopub.execute_input": "2022-08-27T20:00:37.255880Z",
     "iopub.status.busy": "2022-08-27T20:00:37.255511Z",
     "iopub.status.idle": "2022-08-27T20:00:37.318205Z",
     "shell.execute_reply": "2022-08-27T20:00:37.317127Z"
    },
    "papermill": {
     "duration": 0.069137,
     "end_time": "2022-08-27T20:00:37.320477",
     "exception": false,
     "start_time": "2022-08-27T20:00:37.251340",
     "status": "completed"
    },
    "tags": []
   },
   "outputs": [],
   "source": [
    "jobs = soup.find_all('li', class_=\"clearfix job-bx wht-shd-bx\")"
   ]
  },
  {
   "cell_type": "code",
   "execution_count": 5,
   "id": "f3ebdd7f",
   "metadata": {
    "execution": {
     "iopub.execute_input": "2022-08-27T20:00:37.328647Z",
     "iopub.status.busy": "2022-08-27T20:00:37.328059Z",
     "iopub.status.idle": "2022-08-27T20:00:37.333585Z",
     "shell.execute_reply": "2022-08-27T20:00:37.332609Z"
    },
    "papermill": {
     "duration": 0.013518,
     "end_time": "2022-08-27T20:00:37.337462",
     "exception": false,
     "start_time": "2022-08-27T20:00:37.323944",
     "status": "completed"
    },
    "tags": []
   },
   "outputs": [
    {
     "name": "stdout",
     "output_type": "stream",
     "text": [
      "Put some skill that you are not familiar with\n"
     ]
    }
   ],
   "source": [
    "print(\"Put some skill that you are not familiar with\")\n",
    "us = \"django\""
   ]
  },
  {
   "cell_type": "code",
   "execution_count": 6,
   "id": "09adb10b",
   "metadata": {
    "execution": {
     "iopub.execute_input": "2022-08-27T20:00:37.344909Z",
     "iopub.status.busy": "2022-08-27T20:00:37.344640Z",
     "iopub.status.idle": "2022-08-27T20:00:37.349384Z",
     "shell.execute_reply": "2022-08-27T20:00:37.348224Z"
    },
    "papermill": {
     "duration": 0.0111,
     "end_time": "2022-08-27T20:00:37.351632",
     "exception": false,
     "start_time": "2022-08-27T20:00:37.340532",
     "status": "completed"
    },
    "tags": []
   },
   "outputs": [
    {
     "name": "stdout",
     "output_type": "stream",
     "text": [
      "Filtering out django\n"
     ]
    }
   ],
   "source": [
    "print(f\"Filtering out {us}\")"
   ]
  },
  {
   "cell_type": "code",
   "execution_count": 7,
   "id": "6777854d",
   "metadata": {
    "execution": {
     "iopub.execute_input": "2022-08-27T20:00:37.360069Z",
     "iopub.status.busy": "2022-08-27T20:00:37.358989Z",
     "iopub.status.idle": "2022-08-27T20:00:37.376784Z",
     "shell.execute_reply": "2022-08-27T20:00:37.375661Z"
    },
    "papermill": {
     "duration": 0.023996,
     "end_time": "2022-08-27T20:00:37.378946",
     "exception": false,
     "start_time": "2022-08-27T20:00:37.354950",
     "status": "completed"
    },
    "tags": []
   },
   "outputs": [
    {
     "name": "stdout",
     "output_type": "stream",
     "text": [
      "Company name: Surya Informatics Solutions Pvt. Ltd.\n",
      "Skills required:     python  ,  web technologies  ,  linux  ,  mobile  ,  mysql  ,  angularjs  ,  javascript  \n",
      "More info: https://www.timesjobs.com/job-detail/python-surya-informatics-solutions-pvt-ltd-chennai-0-to-3-yrs-jobid-UVlLes58wutzpSvf__PLUS__uAgZw==&source=srp\n",
      "\n",
      "Company name: GEMINI SOFTWARE SOLUTIONS\n",
      "Skills required: \n",
      "python  ,  svn  ,  nosql  ,  python scripting  ,  git  ,  sql database  \n",
      "More info: https://www.timesjobs.com/job-detail/qa-python-python-sdet-gemini-software-solutions-gurgaon-4-to-7-yrs-jobid-QGkfZ0IeljpzpSvf__PLUS__uAgZw==&source=srp\n",
      "\n",
      "Company name: Gemini Solutions\n",
      "Skills required: \n",
      "python  ,  mobile  ,  svn  ,  nosql  ,  python scripting  ,  git  ,  api  ,  sql database  \n",
      "More info: https://www.timesjobs.com/job-detail/qa-python-python-sdet-gemini-solutions-gurgaon-4-to-7-yrs-jobid-eGMLzwOk2QlzpSvf__PLUS__uAgZw==&source=srp\n",
      "\n",
      "Company name: RESEARCH DEVELOPERS\n",
      "Skills required: \n",
      "python  ,  research  ,  python programmer  ,  Machine Learning  ,  Pattern Recognition  ,  Image Processing  ,  Digital Image  ,  Signal Processing  ,  Electronic Circuits  ,  Network Analysis  \n",
      "More info: https://www.timesjobs.com/job-detail/python-developer-python-programmer-research-developers-delhi-delhi-ncr-noida-greater-noida-0-to-3-yrs-jobid-3MUarDWEYwBzpSvf__PLUS__uAgZw==&source=srp\n",
      "\n",
      "Company name: Ivan Infotech Pvt. Ltd.\n",
      "Skills required:     rest  ,  python  ,  security  ,  debugging  \n",
      "More info: https://www.timesjobs.com/job-detail/python-developer-ivan-infotech-pvt-ltd-kolkata-2-to-5-yrs-jobid-1h6sLaqbaBZzpSvf__PLUS__uAgZw==&source=srp\n",
      "\n",
      "Company name: TRINITY TECHNOLOGY SOLUTIONS\n",
      "Skills required: \n",
      "PYTHON  ,  L2  /  L3  \n",
      "More info: https://www.timesjobs.com/job-detail/python-automation-techstar-software-development-india-pvt-ltd-bengaluru-bangalore-chennai-hyderabad-secunderabad-7-to-12-yrs-jobid-thEuB3__SLASH____PLUS__ULlzpSvf__PLUS__uAgZw==&source=srp\n",
      "\n",
      "Company name: east india securities ltd.\n",
      "Skills required: \n",
      "python  ,  hadoop  ,  machine learning  \n",
      "More info: https://www.timesjobs.com/job-detail/python-engineer-east-india-securities-ltd-kolkata-2-to-5-yrs-jobid-KEkE19WqPbFzpSvf__PLUS__uAgZw==&source=srp\n",
      "\n",
      "Company name: Perfios Software Solutions Pvt. Ltd.\n",
      "Skills required: \n",
      "python  ,  java  ,  scala  \n",
      "More info: https://www.timesjobs.com/job-detail/python-developer-perfios-software-solutions-pvt-ltd-bengaluru-bangalore-5-to-8-yrs-jobid-vxzXapFfNqVzpSvf__PLUS__uAgZw==&source=srp\n",
      "\n",
      "Company name: JobsLo Consultants\n",
      "Skills required: \n",
      "python  ,  linux  ,  windows  ,  sql  \n",
      "More info: https://www.timesjobs.com/job-detail/python-developer-jobslo-consultants-indore-2-to-3-yrs-jobid-XP1detWpoa5zpSvf__PLUS__uAgZw==&source=srp\n",
      "\n",
      "Company name: sjain ventures\n",
      "Skills required: \n",
      "python  ,  web developer  ,  web services  \n",
      "More info: https://www.timesjobs.com/job-detail/python-intern-sjain-ventures-raipur-0-to-3-yrs-jobid-KmspiL9__SLASH__D9hzpSvf__PLUS__uAgZw==&source=srp\n",
      "\n",
      "Company name: APPLYCUP HIRING SOLUTIONS LLP\n",
      "Skills required: \n",
      "python  ,  web technologies  ,  web technologies  \n",
      "More info: https://www.timesjobs.com/job-detail/python-trainer-applycup-hiring-solutions-llp-pune-4-to-6-yrs-jobid-3V1Biww1YVJzpSvf__PLUS__uAgZw==&source=srp\n",
      "\n",
      "Company name: brickred  ( 3pillar global )\n",
      "Skills required:     sql  ,  docker  ,  postgresql  ,  python  ,  messaging  ,  forms  \n",
      "More info: https://www.timesjobs.com/job-detail/python-developer-brickred-3pillar-global-0-to-3-yrs-jobid-NmQ8svNSOhBzpSvf__PLUS__uAgZw==&source=srp\n",
      "\n"
     ]
    }
   ],
   "source": [
    "for job in jobs:\n",
    "    pd = job.find('span', class_ = 'sim-posted').text\n",
    "    if \"few\" in pd:\n",
    "        cn = job.find('h3', class_='joblist-comp-name').text.replace(\"\\r\\n     (More Jobs) \\n\",\"\").replace(\"\\r\\n    \",\"\")\n",
    "        skills = job.find('span', class_ = 'srp-skills').text.replace(\"\\r\\n      \",\"\")\n",
    "        mi = job.header.h2.a['href']\n",
    "        \n",
    "        if us.casefold() not in skills.casefold():\n",
    "            print(f\"Company name: {cn}\")\n",
    "            print(f\"Skills required: {skills}\")\n",
    "            print(f\"More info: {mi}\\n\")"
   ]
  },
  {
   "cell_type": "code",
   "execution_count": null,
   "id": "3d23afac",
   "metadata": {
    "papermill": {
     "duration": 0.002884,
     "end_time": "2022-08-27T20:00:37.385101",
     "exception": false,
     "start_time": "2022-08-27T20:00:37.382217",
     "status": "completed"
    },
    "tags": []
   },
   "outputs": [],
   "source": []
  }
 ],
 "metadata": {
  "kernelspec": {
   "display_name": "Python 3",
   "language": "python",
   "name": "python3"
  },
  "language_info": {
   "codemirror_mode": {
    "name": "ipython",
    "version": 3
   },
   "file_extension": ".py",
   "mimetype": "text/x-python",
   "name": "python",
   "nbconvert_exporter": "python",
   "pygments_lexer": "ipython3",
   "version": "3.7.12"
  },
  "papermill": {
   "default_parameters": {},
   "duration": 12.142672,
   "end_time": "2022-08-27T20:00:38.009095",
   "environment_variables": {},
   "exception": null,
   "input_path": "__notebook__.ipynb",
   "output_path": "__notebook__.ipynb",
   "parameters": {},
   "start_time": "2022-08-27T20:00:25.866423",
   "version": "2.3.4"
  }
 },
 "nbformat": 4,
 "nbformat_minor": 5
}
