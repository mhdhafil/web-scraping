{
  "nbformat": 4,
  "nbformat_minor": 0,
  "metadata": {
    "colab": {
      "provenance": [],
      "authorship_tag": "ABX9TyPw5j+JjNbchMGeGZwpwNih",
      "include_colab_link": true
    },
    "kernelspec": {
      "name": "python3",
      "display_name": "Python 3"
    },
    "language_info": {
      "name": "python"
    }
  },
  "cells": [
    {
      "cell_type": "markdown",
      "metadata": {
        "id": "view-in-github",
        "colab_type": "text"
      },
      "source": [
        "<a href=\"https://colab.research.google.com/github/mhdhafil/web-scraping/blob/main/Web_Scraping.ipynb\" target=\"_parent\"><img src=\"https://colab.research.google.com/assets/colab-badge.svg\" alt=\"Open In Colab\"/></a>"
      ]
    },
    {
      "cell_type": "code",
      "execution_count": 1,
      "metadata": {
        "id": "5ybKCzu1eFRm"
      },
      "outputs": [],
      "source": [
        "# Importing neccessary libraries\n",
        "import requests\n",
        "import re\n",
        "from bs4 import BeautifulSoup"
      ]
    },
    {
      "cell_type": "code",
      "source": [
        "# Function to scrape only visible text from the given URL\n",
        "def scrape_visible_text_from_url(url):\n",
        "    response = requests.get(url)\n",
        "    response.raise_for_status()\n",
        "    soup = BeautifulSoup(response.content, 'html.parser')\n",
        "\n",
        "    # Remove script, style, and other non-visible tags\n",
        "    for tag in soup([\"script\", \"style\", \"meta\", \"link\", \"noscript\", \"header\", \"footer\", \"aside\", \"nav\", \"img\"]):\n",
        "        tag.extract()\n",
        "\n",
        "    # Get the header content\n",
        "    header_content = soup.find(\"header\")\n",
        "    header_text = header_content.get_text() if header_content else \"\"\n",
        "\n",
        "    # Get the paragraph content\n",
        "    paragraph_content = soup.find_all(\"p\")\n",
        "    paragraph_text = \" \".join([p.get_text() for p in paragraph_content])\n",
        "\n",
        "    # Combine header and paragraph text\n",
        "    visible_text = f\"{header_text}\\n\\n{paragraph_text}\"\n",
        "\n",
        "    # Remove multiple whitespaces and newlines\n",
        "    visible_text = re.sub(r'\\s+', ' ', visible_text)\n",
        "    return visible_text.strip()"
      ],
      "metadata": {
        "id": "e_xdInq7eSqR"
      },
      "execution_count": 2,
      "outputs": []
    },
    {
      "cell_type": "code",
      "source": [
        "url = input(\"Enter the URL of the website to scraped:\")\n",
        "result = scrape_visible_text_from_url(url)"
      ],
      "metadata": {
        "colab": {
          "base_uri": "https://localhost:8080/"
        },
        "id": "DxeCdpk9ekRx",
        "outputId": "139029cf-4af8-4d5e-94fa-5347115f3fb8"
      },
      "execution_count": 3,
      "outputs": [
        {
          "output_type": "stream",
          "name": "stdout",
          "text": [
            "Enter the URL of the website to scraped:https://en.wikipedia.org/wiki/John_Cena\n",
            "John Felix Anthony Cena (/ˈsiːnə/ SEE-nə; born April 23, 1977) is an American professional wrestler, actor, and former rapper currently signed to WWE. With the most world championship reigns in WWE history,[a] Cena is widely regarded as one of the greatest professional wrestlers of all time.[7][8][9][10][11][12] Cena moved to California in 1998 to pursue a career as a bodybuilder and switched to professional wrestling in 1999, and made his debut for Ultimate Pro Wrestling (UPW). He signed with the World Wrestling Federation (WWF, now WWE) in 2001 and was assigned to its developmental territory Ohio Valley Wrestling (OVW), winning the OVW Heavyweight Championship and OVW Southern Tag Team Championship.[13][14] After moving to SmackDown in 2002, Cena gained fame and success after adopting the character of a trash-talking rapper.[15][16] After winning the WWE Championship in 2005, Cena transitioned into a clean-cut, heroic character which he described as a \"goody-two shoes Superman\".[17] He led the company as its franchise player[18] and public face for the next decade.[19] A joint-record 16-time world champion, Cena is a record 13-time WWE Champion and three-time World Heavyweight Champion. He is also a five-time WWE United States Champion, a two-time WWE Tag Team Champion, a two-time World Tag Team Champion, a two-time Royal Rumble winner, and a one-time Money in the Bank winner. He has also headlined multiple major WWE pay-per-view events, including its flagship event, WrestleMania, five times. His professional wrestling career has been met with mixed critical and audience reception, with praise for his character work and promotional skills, but criticism for his perceived over-representation and on-screen dominance relative to other wrestlers.[18] Cena first starred in The Marine (2006), and gained praise for his performances in Trainwreck (2015), Ferdinand (2017), Blockers, and Bumblebee (both 2018).[9] He starred in F9 (2021) as Jakob Toretto, reprising his role in Fast X (2023), and portrayed Peacemaker in The Suicide Squad (2021) and the eponymous television series (2022–present). He released a studio album, You Can't See Me, in 2005. Outside his work in entertainment, Cena is known for his involvement in numerous charitable causes, namely with the Make-A-Wish Foundation, where he has granted the most wishes, at over 650.[20]\n"
          ]
        }
      ]
    },
    {
      "cell_type": "code",
      "source": [
        "result"
      ],
      "metadata": {
        "colab": {
          "base_uri": "https://localhost:8080/",
          "height": 278
        },
        "id": "kcki4p-ge_Ck",
        "outputId": "f63aecfb-3909-4905-b969-7b479d9a66f0"
      },
      "execution_count": 4,
      "outputs": [
        {
          "output_type": "execute_result",
          "data": {
            "text/plain": [
              "'John Felix Anthony Cena (/ˈsiːnə/ SEE-nə; born April 23, 1977) is an American professional wrestler, actor, and former rapper currently signed to WWE. With the most world championship reigns in WWE history,[a] Cena is widely regarded as one of the greatest professional wrestlers of all time.[7][8][9][10][11][12] Cena moved to California in 1998 to pursue a career as a bodybuilder and switched to professional wrestling in 1999, and made his debut for Ultimate Pro Wrestling (UPW). He signed with the World Wrestling Federation (WWF, now WWE) in 2001 and was assigned to its developmental territory Ohio Valley Wrestling (OVW), winning the OVW Heavyweight Championship and OVW Southern Tag Team Championship.[13][14] After moving to SmackDown in 2002, Cena gained fame and success after adopting the character of a trash-talking rapper.[15][16] After winning the WWE Championship in 2005, Cena transitioned into a clean-cut, heroic character which he described as a \"goody-two shoes Superman\".[17] He led the company as its franchise player[18] and public face for the next decade.[19] A joint-record 16-time world champion, Cena is a record 13-time WWE Champion and three-time World Heavyweight Champion. He is also a five-time WWE United States Champion, a two-time WWE Tag Team Champion, a two-time World Tag Team Champion, a two-time Royal Rumble winner, and a one-time Money in the Bank winner. He has also headlined multiple major WWE pay-per-view events, including its flagship event, WrestleMania, five times. His professional wrestling career has been met with mixed critical and audience reception, with praise for his character work and promotional skills, but criticism for his perceived over-representation and on-screen dominance relative to other wrestlers.[18] Cena first starred in The Marine (2006), and gained praise for his performances in Trainwreck (2015), Ferdinand (2017), Blockers, and Bumblebee (both 2018).[9] He starred in F9 (2021) as Jakob Toretto, reprising his role in Fast X (2023), and portrayed Peacemaker in The Suicide Squad (2021) and the eponymous television series (2022–present). He released a studio album, You Can\\'t See Me, in 2005. Outside his work in entertainment, Cena is known for his involvement in numerous charitable causes, namely with the Make-A-Wish Foundation, where he has granted the most wishes, at over 650.[20]'"
            ],
            "application/vnd.google.colaboratory.intrinsic+json": {
              "type": "string"
            }
          },
          "metadata": {},
          "execution_count": 4
        }
      ]
    },
    {
      "cell_type": "code",
      "source": [],
      "metadata": {
        "id": "i7ucgukQfRKo"
      },
      "execution_count": null,
      "outputs": []
    }
  ]
}